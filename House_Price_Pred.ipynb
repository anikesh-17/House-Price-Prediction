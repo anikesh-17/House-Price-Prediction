{
  "nbformat": 4,
  "nbformat_minor": 0,
  "metadata": {
    "colab": {
      "provenance": [],
      "authorship_tag": "ABX9TyPnvTy52Ih9tq2mH0MFY2p1",
      "include_colab_link": true
    },
    "kernelspec": {
      "name": "python3",
      "display_name": "Python 3"
    },
    "language_info": {
      "name": "python"
    }
  },
  "cells": [
    {
      "cell_type": "markdown",
      "metadata": {
        "id": "view-in-github",
        "colab_type": "text"
      },
      "source": [
        "<a href=\"https://colab.research.google.com/github/anikesh-17/House-Price-Prediction/blob/main/House_Price_Pred.ipynb\" target=\"_parent\"><img src=\"https://colab.research.google.com/assets/colab-badge.svg\" alt=\"Open In Colab\"/></a>"
      ]
    },
    {
      "cell_type": "code",
      "execution_count": 3,
      "metadata": {
        "id": "NdA0sDmz7clt",
        "colab": {
          "base_uri": "https://localhost:8080/"
        },
        "outputId": "56b6b7a4-6bbb-43bf-b82d-636a1dad4908"
      },
      "outputs": [
        {
          "output_type": "stream",
          "name": "stdout",
          "text": [
            "Linear Regression Performance:\n",
            "Train MAE: 253706.60616889715\n",
            "Test MAE: 235684.08117379114\n",
            "Train RMSE: 886893.8537983722\n",
            "Test RMSE: 418362.30086591066\n",
            "Train R2: 0.23698556677915994\n",
            "Test R2: 0.46928363514668703\n",
            "51/51 [==============================] - 0s 2ms/step\n",
            "13/13 [==============================] - 0s 2ms/step\n",
            "Neural Network Performance:\n",
            "Train MAE: 234784.41001085608\n",
            "Test MAE: 214525.31779857673\n",
            "Train RMSE: 902204.8856675683\n",
            "Test RMSE: 377611.2020127343\n",
            "Train R2: 0.21041332270699853\n",
            "Test R2: 0.567638382829805\n"
          ]
        }
      ],
      "source": [
        "import pandas as pd\n",
        "import numpy as np\n",
        "from sklearn.model_selection import train_test_split\n",
        "from sklearn.preprocessing import StandardScaler, OneHotEncoder\n",
        "from sklearn.compose import ColumnTransformer\n",
        "from sklearn.pipeline import Pipeline\n",
        "from sklearn.linear_model import LinearRegression\n",
        "from sklearn.metrics import mean_absolute_error, mean_squared_error, r2_score\n",
        "import tensorflow as tf\n",
        "from tensorflow.keras.models import Sequential\n",
        "from tensorflow.keras.layers import Dense, Dropout\n",
        "\n",
        "# Load the dataset\n",
        "file_path = 'train.csv'  # Update this path\n",
        "data = pd.read_csv(file_path)\n",
        "\n",
        "# Handle missing values\n",
        "data['lot_size'].fillna(data['lot_size'].median(), inplace=True)\n",
        "data.dropna(subset=['beds', 'baths', 'size', 'price'], inplace=True)\n",
        "\n",
        "# Convert lot_size_units to a common unit (sqft)\n",
        "def convert_lot_size_to_sqft(size, unit):\n",
        "    if unit == 'acre':\n",
        "        return size * 43560  # 1 acre = 43560 sqft\n",
        "    return size\n",
        "\n",
        "data['lot_size'] = data.apply(lambda row: convert_lot_size_to_sqft(row['lot_size'], row['lot_size_units']), axis=1)\n",
        "data.drop(columns=['lot_size_units', 'size_units'], inplace=True)\n",
        "\n",
        "# Features and target variable\n",
        "X = data.drop(columns=['price'])\n",
        "y = data['price']\n",
        "\n",
        "# Split the data into training and testing sets\n",
        "X_train, X_test, y_train, y_test = train_test_split(X, y, test_size=0.2, random_state=42)\n",
        "\n",
        "# Preprocessing for numerical and categorical data\n",
        "numeric_features = ['beds', 'baths', 'size', 'lot_size']\n",
        "numeric_transformer = StandardScaler()\n",
        "categorical_features = ['zip_code']\n",
        "categorical_transformer = OneHotEncoder(handle_unknown='ignore')\n",
        "\n",
        "preprocessor = ColumnTransformer(\n",
        "    transformers=[\n",
        "        ('num', numeric_transformer, numeric_features),\n",
        "        ('cat', categorical_transformer, categorical_features)\n",
        "    ])\n",
        "\n",
        "pipeline = Pipeline(steps=[('preprocessor', preprocessor)])\n",
        "X_train_transformed = pipeline.fit_transform(X_train).toarray()\n",
        "X_test_transformed = pipeline.transform(X_test).toarray()\n",
        "\n",
        "# Baseline model: Linear Regression\n",
        "lr_model = LinearRegression()\n",
        "lr_model.fit(X_train_transformed, y_train)\n",
        "y_pred_train = lr_model.predict(X_train_transformed)\n",
        "y_pred_test = lr_model.predict(X_test_transformed)\n",
        "\n",
        "print(\"Linear Regression Performance:\")\n",
        "print(f\"Train MAE: {mean_absolute_error(y_train, y_pred_train)}\")\n",
        "print(f\"Test MAE: {mean_absolute_error(y_test, y_pred_test)}\")\n",
        "print(f\"Train RMSE: {np.sqrt(mean_squared_error(y_train, y_pred_train))}\")\n",
        "print(f\"Test RMSE: {np.sqrt(mean_squared_error(y_test, y_pred_test))}\")\n",
        "print(f\"Train R2: {r2_score(y_train, y_pred_train)}\")\n",
        "print(f\"Test R2: {r2_score(y_test, y_pred_test)}\")\n",
        "\n",
        "# Neural Network model\n",
        "def build_model(input_shape):\n",
        "    model = Sequential([\n",
        "        Dense(128, activation='relu', input_shape=(input_shape,)),\n",
        "        Dropout(0.2),\n",
        "        Dense(64, activation='relu'),\n",
        "        Dropout(0.2),\n",
        "        Dense(32, activation='relu'),\n",
        "        Dropout(0.2),\n",
        "        Dense(1)\n",
        "    ])\n",
        "    model.compile(optimizer='adam', loss='mean_squared_error', metrics=['mae'])\n",
        "    return model\n",
        "\n",
        "input_shape = X_train_transformed.shape[1]\n",
        "nn_model = build_model(input_shape)\n",
        "history = nn_model.fit(X_train_transformed, y_train, epochs=100, batch_size=32, validation_split=0.2, verbose=0)\n",
        "\n",
        "y_pred_train_nn = nn_model.predict(X_train_transformed).flatten()\n",
        "y_pred_test_nn = nn_model.predict(X_test_transformed).flatten()\n",
        "\n",
        "print(\"Neural Network Performance:\")\n",
        "print(f\"Train MAE: {mean_absolute_error(y_train, y_pred_train_nn)}\")\n",
        "print(f\"Test MAE: {mean_absolute_error(y_test, y_pred_test_nn)}\")\n",
        "print(f\"Train RMSE: {np.sqrt(mean_squared_error(y_train, y_pred_train_nn))}\")\n",
        "print(f\"Test RMSE: {np.sqrt(mean_squared_error(y_test, y_pred_test_nn))}\")\n",
        "print(f\"Train R2: {r2_score(y_train, y_pred_train_nn)}\")\n",
        "print(f\"Test R2: {r2_score(y_test, y_pred_test_nn)}\")\n"
      ]
    }
  ]
}